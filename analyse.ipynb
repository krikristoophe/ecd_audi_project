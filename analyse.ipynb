{
 "cells": [
  {
   "cell_type": "markdown",
   "metadata": {},
   "source": [
    "# Extraction des connaissances des données\n",
    "\n",
    "Les données choisies proviennent d'un dataset fournis par audi. Ce sont des données extraite des entrainements de leurs voitures autonome. \n",
    "https://www.a2d2.audi/a2d2/en/dataset.html\n",
    "\n",
    "Il est composé de:\n",
    "* Données lidar\n",
    "* Vidéos des caméras embarqués\n",
    "* Bounding box 3D détectées par leurs véhicule\n",
    "* Signaux du bus CAN\n",
    "\n",
    "Nous avons choisis les signaux CAN car ce sont les données les plus simple à analyser et les plus légère (le dataset complet pèse 2.3To).\n",
    "Les données sont fournis dans un fichier json contenant toutes les informations. Nous allons tout d'abord extraire les données dans un fichier csv simplifier en extrayant et formatant les informations suivantes:\n",
    "* Pression de la pédale d'accèlération\n",
    "* Pression de la pédale de freinage\n",
    "* Distances retournées par les capteurs avant et arrière droite et gauche\n",
    "* Vitesse du véhicule"
   ]
  },
  {
   "cell_type": "code",
   "execution_count": 41,
   "metadata": {},
   "outputs": [],
   "source": [
    "import json\n",
    "import csv\n",
    "from sklearn import tree\n",
    "from sklearn.model_selection import train_test_split\n",
    "from sklearn.neural_network import MLPRegressor\n",
    "from sklearn.ensemble import RandomForestRegressor"
   ]
  },
  {
   "cell_type": "markdown",
   "metadata": {},
   "source": [
    "## Préparation des données"
   ]
  },
  {
   "cell_type": "markdown",
   "metadata": {},
   "source": [
    "### Lecture des données brut"
   ]
  },
  {
   "cell_type": "code",
   "execution_count": 2,
   "metadata": {},
   "outputs": [
    {
     "output_type": "stream",
     "name": "stdout",
     "text": "dict_keys(['accelerator_pedal', 'accelerator_pedal_gradient_sign', 'angular_velocity_omega_x', 'angular_velocity_omega_y', 'angular_velocity_omega_z', 'brake_pressure', 'distance_pulse_front_left', 'distance_pulse_front_right', 'distance_pulse_rear_left', 'distance_pulse_rear_right', 'latitude_degree', 'latitude_direction', 'longitude_degree', 'longitude_direction', 'pitch_angle', 'roll_angle', 'steering_angle_calculated', 'steering_angle_calculated_sign', 'vehicle_speed'])\n"
    }
   ],
   "source": [
    "with open('bus_signals.json', 'r') as input_file:\n",
    "    initial_datas = json.load(input_file)\n",
    "print(initial_datas.keys())"
   ]
  },
  {
   "cell_type": "code",
   "execution_count": 3,
   "metadata": {},
   "outputs": [],
   "source": [
    "keys = ['accelerator_pedal', 'brake_pressure', 'distance_pulse_front_left', 'distance_pulse_front_right', 'distance_pulse_rear_left', 'distance_pulse_rear_right', 'vehicle_speed']\n",
    "units = [initial_datas[key]['unit'] if not initial_datas[key]['unit'] is None else 'CentiMeter' for key in keys]"
   ]
  },
  {
   "cell_type": "markdown",
   "metadata": {},
   "source": [
    "### Extraction de formatage des données initiales\n",
    "\n",
    "Chaque données est fournis avec un timestamp d'une précision de 17 digits. Nous allons diminuer cette précision afin de pouvoir fusionner des données et obtenir des lignes complètes sans donnée manquante."
   ]
  },
  {
   "cell_type": "code",
   "execution_count": 4,
   "metadata": {
    "tags": [
     "outputPrepend"
    ]
   },
   "outputs": [],
   "source": [
    "\n",
    "merged_datas = dict()\n",
    "for key in keys:\n",
    "    values = initial_datas[key]['values'].copy()\n",
    "    for i in range(len(values)):\n",
    "        timestamp = round(values[i][0]/1e4)\n",
    "        if not timestamp in merged_datas:\n",
    "            merged_datas[timestamp] = dict(accelerator_pedal=None, brake_pressure=None, distance_pulse_front_left=None, distance_pulse_front_right=None, distance_pulse_rear_left=None, distance_pulse_rear_right=None, vehicle_speed=None)\n",
    "        if merged_datas[timestamp][key] is None:\n",
    "            merged_datas[timestamp][key] = values[i][1]\n"
   ]
  },
  {
   "cell_type": "markdown",
   "metadata": {},
   "source": [
    "### Création du fichier csv\n",
    "\n",
    "Nous sauvegardons les données dans un fichier csv afin de pouvoir les recharger plus facilement, et au besoin les ouvrir dans R"
   ]
  },
  {
   "cell_type": "code",
   "execution_count": 5,
   "metadata": {
    "tags": [
     "outputPrepend"
    ]
   },
   "outputs": [],
   "source": [
    "timestamps = sorted(list(merged_datas.keys()))\n",
    "list_data = []\n",
    "for timestamp in timestamps:\n",
    "    row = [timestamp] + [merged_datas[timestamp][key] for key in keys]\n",
    "    if not None in row:\n",
    "        list_data.append(row)"
   ]
  },
  {
   "cell_type": "code",
   "execution_count": 6,
   "metadata": {},
   "outputs": [],
   "source": [
    "with open('bus_signals.csv', 'w') as csv_file:\n",
    "    csv_writer = csv.writer(csv_file)\n",
    "    csv_writer.writerow(['timestamp'] + keys)\n",
    "    csv_writer.writerow(['MicroSecond'] + units)\n",
    "    for i in range(len(list_data)):\n",
    "        csv_writer.writerow(list_data[i])"
   ]
  },
  {
   "cell_type": "markdown",
   "metadata": {},
   "source": [
    "## Analyse des données"
   ]
  },
  {
   "cell_type": "markdown",
   "metadata": {},
   "source": [
    "### Préparations des données"
   ]
  },
  {
   "cell_type": "code",
   "execution_count": 3,
   "metadata": {
    "tags": [
     "outputPrepend",
     "outputPrepend",
     "outputPrepend",
     "outputPrepend",
     "outputPrepend",
     "outputPrepend",
     "outputPrepend",
     "outputPrepend",
     "outputPrepend",
     "outputPrepend",
     "outputPrepend",
     "outputPrepend",
     "outputPrepend",
     "outputPrepend",
     "outputPrepend",
     "outputPrepend"
    ]
   },
   "outputs": [],
   "source": [
    "datas = list()\n",
    "header = None\n",
    "\n",
    "with open('./bus_signals.csv', 'r') as datas_file:\n",
    "    csv_reader = csv.reader(datas_file)\n",
    "    index = 0\n",
    "    for row in csv_reader:\n",
    "        if index != 0:\n",
    "            datas.append([float(col) for col in row])\n",
    "        else:\n",
    "            header = row\n",
    "        index += 1"
   ]
  },
  {
   "cell_type": "code",
   "execution_count": 5,
   "metadata": {},
   "outputs": [
    {
     "output_type": "stream",
     "name": "stdout",
     "text": "[179.0, 84.0, 658.0, 464.0, 10.36]\n[38.8, 0.0]\n"
    }
   ],
   "source": [
    "X = list()\n",
    "y = list()\n",
    "\n",
    "for row in datas:\n",
    "    y.append(row[1:3])\n",
    "    X.append(row[3:])"
   ]
  },
  {
   "cell_type": "code",
   "execution_count": 27,
   "metadata": {},
   "outputs": [],
   "source": [
    "X_train, X_test, y_train, y_test = train_test_split(X, y, test_size=0.10)"
   ]
  },
  {
   "cell_type": "markdown",
   "metadata": {},
   "source": [
    "### Question 6: Arbre de régression"
   ]
  },
  {
   "cell_type": "code",
   "execution_count": 28,
   "metadata": {},
   "outputs": [
    {
     "output_type": "execute_result",
     "data": {
      "text/plain": "0.6192562908815413"
     },
     "metadata": {},
     "execution_count": 28
    }
   ],
   "source": [
    "clf = tree.DecisionTreeRegressor()\n",
    "clf = clf.fit(X_train, y_train)\n",
    "clf.score(X_test, y_test)"
   ]
  },
  {
   "cell_type": "markdown",
   "metadata": {},
   "source": [
    "### Question 7: Neural Network"
   ]
  },
  {
   "cell_type": "code",
   "execution_count": 36,
   "metadata": {},
   "outputs": [
    {
     "output_type": "stream",
     "name": "stdout",
     "text": "Iteration 1, loss = 54.04416972\nIteration 2, loss = 40.40807755\nIteration 3, loss = 37.05716456\nIteration 4, loss = 36.34970750\nIteration 5, loss = 36.26072155\nIteration 6, loss = 36.25410618\nIteration 7, loss = 36.24370966\nIteration 8, loss = 36.23388865\nIteration 9, loss = 36.21622092\nIteration 10, loss = 36.17212562\nIteration 11, loss = 36.02364794\nIteration 12, loss = 35.48018443\nIteration 13, loss = 34.36625038\nIteration 14, loss = 33.15236260\nIteration 15, loss = 32.50963956\nIteration 16, loss = 31.95665751\nIteration 17, loss = 31.71948822\nIteration 18, loss = 31.42636623\nIteration 19, loss = 31.30429274\nIteration 20, loss = 30.98260580\nIteration 21, loss = 30.93628580\nIteration 22, loss = 30.90169112\nIteration 23, loss = 30.79560852\nIteration 24, loss = 30.70823875\nIteration 25, loss = 30.66400363\nIteration 26, loss = 30.64002126\nIteration 27, loss = 30.57875484\nIteration 28, loss = 30.47219646\nIteration 29, loss = 30.45914793\nIteration 30, loss = 30.39676837\nIteration 31, loss = 30.34344667\nIteration 32, loss = 30.32114309\nIteration 33, loss = 30.28699857\nIteration 34, loss = 30.22530654\nIteration 35, loss = 30.31991708\nIteration 36, loss = 30.24328073\nIteration 37, loss = 30.16490294\nIteration 38, loss = 30.11323402\nIteration 39, loss = 30.14307109\nIteration 40, loss = 30.04940359\nIteration 41, loss = 30.02266711\nIteration 42, loss = 30.02023773\nIteration 43, loss = 29.94167649\nIteration 44, loss = 29.84311318\nIteration 45, loss = 29.97341847\nIteration 46, loss = 29.80000272\nIteration 47, loss = 29.87581625\nIteration 48, loss = 29.76757539\nIteration 49, loss = 29.75061112\nIteration 50, loss = 29.75755969\nIteration 51, loss = 29.69349991\nIteration 52, loss = 29.72700983\nIteration 53, loss = 29.67874146\nIteration 54, loss = 29.68874989\nIteration 55, loss = 29.58511686\nIteration 56, loss = 29.58243493\nIteration 57, loss = 29.59072047\nIteration 58, loss = 29.61253835\nIteration 59, loss = 29.60339118\nIteration 60, loss = 29.63606952\nIteration 61, loss = 29.54101275\nIteration 62, loss = 29.53051658\nIteration 63, loss = 29.60788695\nIteration 64, loss = 29.66175738\nIteration 65, loss = 29.50650778\nIteration 66, loss = 29.45259402\nIteration 67, loss = 29.48361695\nIteration 68, loss = 29.52362138\nIteration 69, loss = 29.47914198\nIteration 70, loss = 29.48517172\nIteration 71, loss = 29.47715735\nIteration 72, loss = 29.39569549\nIteration 73, loss = 29.37240840\nIteration 74, loss = 29.39572604\nIteration 75, loss = 29.38664250\nIteration 76, loss = 29.35384334\nIteration 77, loss = 29.38157991\nIteration 78, loss = 29.38568785\nIteration 79, loss = 29.28774864\nIteration 80, loss = 29.34581210\nIteration 81, loss = 29.29386671\nIteration 82, loss = 29.28911070\nIteration 83, loss = 29.26073265\nIteration 84, loss = 29.23739045\nIteration 85, loss = 29.21236455\nIteration 86, loss = 29.29209440\nIteration 87, loss = 29.26637109\nIteration 88, loss = 29.23415151\nIteration 89, loss = 29.24147703\nIteration 90, loss = 29.17961615\nIteration 91, loss = 29.12325280\nIteration 92, loss = 29.16276340\nIteration 93, loss = 29.12698622\nIteration 94, loss = 29.12296414\nIteration 95, loss = 29.09752521\nIteration 96, loss = 29.08509886\nIteration 97, loss = 29.13610771\nIteration 98, loss = 29.06024645\nIteration 99, loss = 29.03552135\nIteration 100, loss = 29.06039399\nIteration 101, loss = 29.02795249\nIteration 102, loss = 29.08666068\nIteration 103, loss = 28.96782474\nIteration 104, loss = 28.96775509\nIteration 105, loss = 28.93863004\nIteration 106, loss = 28.98702979\nIteration 107, loss = 28.82943565\nIteration 108, loss = 28.96823042\nIteration 109, loss = 28.96941259\nIteration 110, loss = 28.88837267\nIteration 111, loss = 28.89943150\nIteration 112, loss = 28.83967369\nIteration 113, loss = 28.84936078\nIteration 114, loss = 28.89404474\nIteration 115, loss = 28.79318954\nIteration 116, loss = 28.79444157\nIteration 117, loss = 28.78594869\nIteration 118, loss = 28.85873461\nIteration 119, loss = 28.80821495\nIteration 120, loss = 28.67509587\nIteration 121, loss = 28.70384065\nIteration 122, loss = 28.62944281\nIteration 123, loss = 28.76743681\nIteration 124, loss = 28.79278185\nIteration 125, loss = 28.63575769\nIteration 126, loss = 28.68887639\nIteration 127, loss = 28.64278932\nIteration 128, loss = 28.65400036\nIteration 129, loss = 28.65890667\nIteration 130, loss = 28.62669093\nIteration 131, loss = 28.59401912\nIteration 132, loss = 28.47768996\nIteration 133, loss = 28.57532470\nIteration 134, loss = 28.57382121\nIteration 135, loss = 28.57418370\nIteration 136, loss = 28.46439956\nIteration 137, loss = 28.39275085\nIteration 138, loss = 28.45549909\nIteration 139, loss = 28.54103921\nIteration 140, loss = 28.45025651\nIteration 141, loss = 28.42624540\nIteration 142, loss = 28.41519139\nIteration 143, loss = 28.39994388\nIteration 144, loss = 28.47798852\nIteration 145, loss = 28.37227808\nIteration 146, loss = 28.39774185\nIteration 147, loss = 28.34912815\nIteration 148, loss = 28.31616985\nIteration 149, loss = 28.33472866\nIteration 150, loss = 28.39476097\nIteration 151, loss = 28.43471214\nIteration 152, loss = 28.37089743\nIteration 153, loss = 28.38514098\nIteration 154, loss = 28.30908585\nIteration 155, loss = 28.34022311\nIteration 156, loss = 28.39382680\nIteration 157, loss = 28.28736952\nIteration 158, loss = 28.37737393\nIteration 159, loss = 28.28429116\nIteration 160, loss = 28.28428936\nIteration 161, loss = 28.36458833\nIteration 162, loss = 28.19016671\nIteration 163, loss = 28.28952514\nIteration 164, loss = 28.27359396\nIteration 165, loss = 28.21449501\nIteration 166, loss = 28.17958398\nIteration 167, loss = 28.21234521\nIteration 168, loss = 28.13106522\nIteration 169, loss = 28.16417508\nIteration 170, loss = 28.05037087\nIteration 171, loss = 28.13534075\nIteration 172, loss = 28.09754292\nIteration 173, loss = 28.11682768\nIteration 174, loss = 28.10733165\nIteration 175, loss = 28.07149322\nIteration 176, loss = 28.05511657\nIteration 177, loss = 28.02246750\nIteration 178, loss = 28.08965418\nIteration 179, loss = 28.06910303\nIteration 180, loss = 28.07985819\nIteration 181, loss = 27.89403813\nIteration 182, loss = 27.94799630\nIteration 183, loss = 27.92981111\nIteration 184, loss = 27.84679603\nIteration 185, loss = 27.81975888\nIteration 186, loss = 27.86137472\nIteration 187, loss = 27.78006440\nIteration 188, loss = 27.86458698\nIteration 189, loss = 27.86100746\nIteration 190, loss = 27.72722371\nIteration 191, loss = 27.66376181\nIteration 192, loss = 27.73264338\nIteration 193, loss = 27.64974297\nIteration 194, loss = 27.60286235\nIteration 195, loss = 27.66396875\nIteration 196, loss = 27.66143457\nIteration 197, loss = 27.58661080\nIteration 198, loss = 27.75398184\nIteration 199, loss = 27.61442890\nIteration 200, loss = 27.56423731\nIteration 201, loss = 27.62207912\nIteration 202, loss = 27.65573367\nIteration 203, loss = 27.72704088\nIteration 204, loss = 27.81246842\nIteration 205, loss = 27.73826026\nIteration 206, loss = 27.72542591\nIteration 207, loss = 27.58934627\nIteration 208, loss = 27.66304185\nIteration 209, loss = 27.64154961\nIteration 210, loss = 27.68738969\nIteration 211, loss = 27.60841704\nTraining loss did not improve more than tol=0.000100 for 10 consecutive epochs. Stopping.\n"
    },
    {
     "output_type": "execute_result",
     "data": {
      "text/plain": "0.23277538301867684"
     },
     "metadata": {},
     "execution_count": 36
    }
   ],
   "source": [
    "reg = MLPRegressor(max_iter=500, activation='logistic', learning_rate='adaptive', verbose=True, hidden_layer_sizes=(50,50,))\n",
    "reg = reg.fit(X_train, y_train)\n",
    "reg.score(X_test, y_test)"
   ]
  },
  {
   "cell_type": "code",
   "execution_count": 42,
   "metadata": {},
   "outputs": [
    {
     "output_type": "execute_result",
     "data": {
      "text/plain": "0.8510858032092434"
     },
     "metadata": {},
     "execution_count": 42
    }
   ],
   "source": [
    "rf = RandomForestRegressor(random_state=0)\n",
    "rf.fit(X_train, y_train)\n",
    "rf.score(X_test, y_test)"
   ]
  },
  {
   "cell_type": "code",
   "execution_count": null,
   "metadata": {},
   "outputs": [],
   "source": []
  }
 ],
 "metadata": {
  "language_info": {
   "codemirror_mode": {
    "name": "ipython",
    "version": 3
   },
   "file_extension": ".py",
   "mimetype": "text/x-python",
   "name": "python",
   "nbconvert_exporter": "python",
   "pygments_lexer": "ipython3",
   "version": "3.7.7-final"
  },
  "orig_nbformat": 2,
  "kernelspec": {
   "name": "python38164bitecdconda9675a2ad86c84195833e3cb29e0b5ec4",
   "display_name": "Python 3.8.1 64-bit ('ecd': conda)"
  }
 },
 "nbformat": 4,
 "nbformat_minor": 2
}