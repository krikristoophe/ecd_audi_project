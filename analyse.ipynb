{
 "cells": [
  {
   "cell_type": "markdown",
   "metadata": {},
   "source": [
    "# Extraction des connaissances des données\n",
    "\n",
    "Les données choisies proviennent d'un dataset fournis par audi. Ce sont des données extraite des entrainements de leurs voitures autonome. \n",
    "https://www.a2d2.audi/a2d2/en/dataset.html\n",
    "\n",
    "Il est composé de:\n",
    "* Données lidar\n",
    "* Vidéos des caméras embarqués\n",
    "* Bounding box 3D détectées par leurs véhicule\n",
    "* Signaux du bus CAN\n",
    "\n",
    "Nous avons choisis les signaux CAN car ce sont les données les plus simple à analyser et les plus légère (le dataset complet pèse 2.3To).\n",
    "Les données sont fournis dans un fichier json contenant toutes les informations. Nous allons tout d'abord extraire les données dans un fichier csv simplifier en extrayant et formatant les informations suivantes:\n",
    "* Pression de la pédale d'accèlération\n",
    "* Pression de la pédale de freinage\n",
    "* Distances retournées par les capteurs avant et arrière droite et gauche\n",
    "* Vitesse du véhicule"
   ]
  },
  {
   "cell_type": "code",
   "execution_count": 1,
   "metadata": {},
   "outputs": [],
   "source": [
    "import json\n",
    "import csv"
   ]
  },
  {
   "cell_type": "markdown",
   "metadata": {},
   "source": [
    "## Préparation des données"
   ]
  },
  {
   "cell_type": "markdown",
   "metadata": {},
   "source": [
    "### Lecture des données brut"
   ]
  },
  {
   "cell_type": "code",
   "execution_count": 2,
   "metadata": {},
   "outputs": [
    {
     "output_type": "stream",
     "name": "stdout",
     "text": "dict_keys(['accelerator_pedal', 'accelerator_pedal_gradient_sign', 'angular_velocity_omega_x', 'angular_velocity_omega_y', 'angular_velocity_omega_z', 'brake_pressure', 'distance_pulse_front_left', 'distance_pulse_front_right', 'distance_pulse_rear_left', 'distance_pulse_rear_right', 'latitude_degree', 'latitude_direction', 'longitude_degree', 'longitude_direction', 'pitch_angle', 'roll_angle', 'steering_angle_calculated', 'steering_angle_calculated_sign', 'vehicle_speed'])\n"
    }
   ],
   "source": [
    "with open('bus_signals.json', 'r') as input_file:\n",
    "    initial_datas = json.load(input_file)\n",
    "print(initial_datas.keys())"
   ]
  },
  {
   "cell_type": "code",
   "execution_count": 3,
   "metadata": {},
   "outputs": [],
   "source": [
    "keys = ['accelerator_pedal', 'brake_pressure', 'distance_pulse_front_left', 'distance_pulse_front_right', 'distance_pulse_rear_left', 'distance_pulse_rear_right', 'vehicle_speed']\n",
    "units = [initial_datas[key]['unit'] if not initial_datas[key]['unit'] is None else 'CentiMeter' for key in keys]"
   ]
  },
  {
   "cell_type": "markdown",
   "metadata": {},
   "source": [
    "### Extraction de formatage des données initiales\n",
    "\n",
    "Chaque données est fournis avec un timestamp d'une précision de 17 digits. Nous allons diminuer cette précision afin de pouvoir fusionner des données et obtenir des lignes complètes sans donnée manquante."
   ]
  },
  {
   "cell_type": "code",
   "execution_count": 4,
   "metadata": {
    "tags": [
     "outputPrepend"
    ]
   },
   "outputs": [],
   "source": [
    "\n",
    "merged_datas = dict()\n",
    "for key in keys:\n",
    "    values = initial_datas[key]['values'].copy()\n",
    "    for i in range(len(values)):\n",
    "        timestamp = round(values[i][0]/1e4)\n",
    "        if not timestamp in merged_datas:\n",
    "            merged_datas[timestamp] = dict(accelerator_pedal=None, brake_pressure=None, distance_pulse_front_left=None, distance_pulse_front_right=None, distance_pulse_rear_left=None, distance_pulse_rear_right=None, vehicle_speed=None)\n",
    "        if merged_datas[timestamp][key] is None:\n",
    "            merged_datas[timestamp][key] = values[i][1]\n"
   ]
  },
  {
   "cell_type": "markdown",
   "metadata": {},
   "source": [
    "### Création du fichier csv\n",
    "\n",
    "Nous sauvegardons les données dans un fichier csv afin de pouvoir les recharger plus facilement, et au besoin les ouvrir dans R"
   ]
  },
  {
   "cell_type": "code",
   "execution_count": 5,
   "metadata": {
    "tags": [
     "outputPrepend"
    ]
   },
   "outputs": [],
   "source": [
    "timestamps = sorted(list(merged_datas.keys()))\n",
    "list_data = []\n",
    "for timestamp in timestamps:\n",
    "    row = [timestamp] + [merged_datas[timestamp][key] for key in keys]\n",
    "    if not None in row:\n",
    "        list_data.append(row)"
   ]
  },
  {
   "cell_type": "code",
   "execution_count": 6,
   "metadata": {},
   "outputs": [],
   "source": [
    "with open('bus_signals.csv', 'w') as csv_file:\n",
    "    csv_writer = csv.writer(csv_file)\n",
    "    csv_writer.writerow(['timestamp'] + keys)\n",
    "    csv_writer.writerow(['MicroSecond'] + units)\n",
    "    for i in range(len(list_data)):\n",
    "        csv_writer.writerow(list_data[i])"
   ]
  },
  {
   "cell_type": "markdown",
   "metadata": {},
   "source": [
    "## Analyse des données"
   ]
  }
 ],
 "metadata": {
  "language_info": {
   "codemirror_mode": {
    "name": "ipython",
    "version": 3
   },
   "file_extension": ".py",
   "mimetype": "text/x-python",
   "name": "python",
   "nbconvert_exporter": "python",
   "pygments_lexer": "ipython3",
   "version": "3.7.3-final"
  },
  "orig_nbformat": 2,
  "kernelspec": {
   "name": "python37364bit87572c1a33884d0d8f6581f565cebc99",
   "display_name": "Python 3.7.3 64-bit"
  }
 },
 "nbformat": 4,
 "nbformat_minor": 2
}